{
  "nbformat": 4,
  "nbformat_minor": 0,
  "metadata": {
    "colab": {
      "provenance": []
    },
    "kernelspec": {
      "name": "python3",
      "display_name": "Python 3"
    },
    "language_info": {
      "name": "python"
    }
  },
  "cells": [
    {
      "cell_type": "markdown",
      "source": [
        "# Домашнее задание: декораторы"
      ],
      "metadata": {
        "id": "QY4qPJPpgyIS"
      }
    },
    {
      "cell_type": "markdown",
      "source": [
        "## Импорт библиотек, установка констант"
      ],
      "metadata": {
        "id": "Chacc6YchldZ"
      }
    },
    {
      "cell_type": "code",
      "source": [
        "import requests\n",
        "import time\n",
        "import re\n",
        "\n",
        "from random import randint"
      ],
      "metadata": {
        "id": "w8iKrWvwhrFd"
      },
      "execution_count": 1,
      "outputs": []
    },
    {
      "cell_type": "code",
      "source": [
        "BOOK_PATH = 'https://www.gutenberg.org/files/2638/2638-0.txt'"
      ],
      "metadata": {
        "id": "-LRkS0fSi8Np"
      },
      "execution_count": 2,
      "outputs": []
    },
    {
      "cell_type": "markdown",
      "source": [
        "## Задание 1"
      ],
      "metadata": {
        "id": "kARfL8ifg4MH"
      }
    },
    {
      "cell_type": "code",
      "execution_count": 3,
      "metadata": {
        "id": "hNHNWPhngrUl"
      },
      "outputs": [],
      "source": [
        "def benchmark(func):\n",
        "    \"\"\"\n",
        "    Декоратор, выводящий время, которое заняло выполнение декорируемой функции\n",
        "    \"\"\"\n",
        "\n",
        "    def wrapper(*args, **kwargs):\n",
        "        start = time.perf_counter()\n",
        "        result = func(*args, **kwargs)\n",
        "        end = time.perf_counter()\n",
        "        print(f'Время выполнения функции {func.__name__}: {end - start} \\n')\n",
        "        return result\n",
        "\n",
        "    return wrapper"
      ]
    },
    {
      "cell_type": "markdown",
      "source": [
        "## Задание 2"
      ],
      "metadata": {
        "id": "tGlbUKjihL5n"
      }
    },
    {
      "cell_type": "code",
      "source": [
        "def logging(func):\n",
        "    \"\"\"\n",
        "    Декоратор, который выводит параметры с которыми была вызвана функция\n",
        "    \"\"\"\n",
        "\n",
        "    def wrapper(*args, **kwargs):\n",
        "        result = func(*args, **kwargs)\n",
        "        res_args = tuple(args)\n",
        "        res_kwargs = {k:v for k,v in kwargs}\n",
        "        print(f'Функция вызвана с параметрами: \\n {res_args}, {res_kwargs} \\n')\n",
        "        return result\n",
        "\n",
        "    return wrapper"
      ],
      "metadata": {
        "id": "wugOZDLqhNe-"
      },
      "execution_count": 4,
      "outputs": []
    },
    {
      "cell_type": "markdown",
      "source": [
        "## Задание 3"
      ],
      "metadata": {
        "id": "Sq1tv5fshTfv"
      }
    },
    {
      "cell_type": "code",
      "source": [
        "def counter(func):\n",
        "    \"\"\"\n",
        "    Декоратор, считающий и выводящий количество вызовов декорируемой функции\n",
        "    \"\"\"\n",
        "    cnt = 0\n",
        "    def wrapper(*args, **kwargs):\n",
        "        result = func(*args, **kwargs)\n",
        "        nonlocal cnt\n",
        "        cnt += 1\n",
        "        if cnt%10 in [2,3,4] and cnt not in [12,13,14]:\n",
        "            print(f'Функция была вызвана: {cnt} раза \\n')\n",
        "        else:\n",
        "            print(f'Функция была вызвана: {cnt} раз \\n')\n",
        "        return result\n",
        "\n",
        "    return wrapper"
      ],
      "metadata": {
        "id": "9nyvuxXkhVeb"
      },
      "execution_count": 5,
      "outputs": []
    },
    {
      "cell_type": "markdown",
      "source": [
        "## Задание 4"
      ],
      "metadata": {
        "id": "uHn8Adfshz5q"
      }
    },
    {
      "cell_type": "code",
      "source": [
        "def memo(func):\n",
        "  \"\"\"\n",
        "  Декоратор, запоминающий результаты исполнения функции func, чьи аргументы args должны быть хешируемыми\n",
        "  \"\"\"\n",
        "  cache = {}\n",
        "\n",
        "  def fmemo(*args):\n",
        "    if args in fmemo.cache:\n",
        "        return fmemo.cache[args]\n",
        "\n",
        "    result = func(*args)\n",
        "    fmemo.cache[args] = result\n",
        "    return res\n",
        "\n",
        "  fmemo.cache = cache\n",
        "  return fmemo"
      ],
      "metadata": {
        "id": "6h1EpQHf_eB5"
      },
      "execution_count": 6,
      "outputs": []
    },
    {
      "cell_type": "markdown",
      "source": [
        "## Тестирование"
      ],
      "metadata": {
        "id": "Zn5UQCa_izxo"
      }
    },
    {
      "cell_type": "code",
      "source": [
        "@counter\n",
        "@logging\n",
        "@benchmark\n",
        "def word_count(word, url=BOOK_PATH):\n",
        "    \"\"\"\n",
        "    Функция для посчета указанного слова на html-странице\n",
        "    \"\"\"\n",
        "\n",
        "    # отправляем запрос в библиотеку Gutenberg и забираем текст\n",
        "    raw = requests.get(url).text\n",
        "\n",
        "    # заменяем в тексте все небуквенные символы на пробелы\n",
        "    processed_book = re.sub('[\\W]+' , ' ', raw).lower()\n",
        "\n",
        "    # считаем\n",
        "    cnt = len(re.findall(word.lower(), processed_book))\n",
        "\n",
        "    return f\"Cлово {word} встречается {cnt} раз \"\n",
        "\n",
        "print(word_count('whole'))"
      ],
      "metadata": {
        "id": "CHCJ64I8i2QB",
        "colab": {
          "base_uri": "https://localhost:8080/"
        },
        "outputId": "c02c7b2f-18db-40bd-e5e2-36e4d704d5a3"
      },
      "execution_count": 7,
      "outputs": [
        {
          "output_type": "stream",
          "name": "stdout",
          "text": [
            "Время выполнения функции word_count: 0.4997958110000127 \n",
            "\n",
            "Функция вызвана с параметрами: \n",
            " ('whole',), {} \n",
            "\n",
            "Функция была вызвана: 1 раз \n",
            "\n",
            "Cлово whole встречается 176 раз \n"
          ]
        }
      ]
    },
    {
      "cell_type": "code",
      "source": [
        "# проверяем счетчик запусков функции\n",
        "for _ in range(4):\n",
        "    print(word_count('whole'))\n",
        "    print('----------------------------------')"
      ],
      "metadata": {
        "colab": {
          "base_uri": "https://localhost:8080/"
        },
        "id": "gNtxnUgTDADz",
        "outputId": "7c246839-8b6a-4fec-98bf-22cfec4c64ab"
      },
      "execution_count": 8,
      "outputs": [
        {
          "output_type": "stream",
          "name": "stdout",
          "text": [
            "Время выполнения функции word_count: 0.43583517899998014 \n",
            "\n",
            "Функция вызвана с параметрами: \n",
            " ('whole',), {} \n",
            "\n",
            "Функция была вызвана: 2 раза \n",
            "\n",
            "Cлово whole встречается 176 раз \n",
            "----------------------------------\n",
            "Время выполнения функции word_count: 0.4149234909999677 \n",
            "\n",
            "Функция вызвана с параметрами: \n",
            " ('whole',), {} \n",
            "\n",
            "Функция была вызвана: 3 раза \n",
            "\n",
            "Cлово whole встречается 176 раз \n",
            "----------------------------------\n",
            "Время выполнения функции word_count: 0.4142330319999701 \n",
            "\n",
            "Функция вызвана с параметрами: \n",
            " ('whole',), {} \n",
            "\n",
            "Функция была вызвана: 4 раза \n",
            "\n",
            "Cлово whole встречается 176 раз \n",
            "----------------------------------\n",
            "Время выполнения функции word_count: 0.42652524499999345 \n",
            "\n",
            "Функция вызвана с параметрами: \n",
            " ('whole',), {} \n",
            "\n",
            "Функция была вызвана: 5 раз \n",
            "\n",
            "Cлово whole встречается 176 раз \n",
            "----------------------------------\n"
          ]
        }
      ]
    },
    {
      "cell_type": "code",
      "source": [
        "def fib(n):\n",
        "    if n < 2:\n",
        "        return n\n",
        "    return fib(n-2) + fib(n-1)"
      ],
      "metadata": {
        "id": "ZE4Rfn-hh3k3"
      },
      "execution_count": 9,
      "outputs": []
    },
    {
      "cell_type": "code",
      "source": [
        "# измеряем время выполнения\n",
        "res = benchmark(fib)\n",
        "res(35)\n",
        "res(35)"
      ],
      "metadata": {
        "id": "Io94NyjiiXG4",
        "colab": {
          "base_uri": "https://localhost:8080/"
        },
        "outputId": "e5ef0d71-8975-4c3e-9993-b239df39bb2d"
      },
      "execution_count": 10,
      "outputs": [
        {
          "output_type": "stream",
          "name": "stdout",
          "text": [
            "Время выполнения функции fib: 3.85497811700003 \n",
            "\n",
            "Время выполнения функции fib: 3.742703980999977 \n",
            "\n"
          ]
        },
        {
          "output_type": "execute_result",
          "data": {
            "text/plain": [
              "9227465"
            ]
          },
          "metadata": {},
          "execution_count": 10
        }
      ]
    },
    {
      "cell_type": "code",
      "source": [
        "@memo\n",
        "def fib2(n):\n",
        "    if n < 2:\n",
        "        return n\n",
        "    return fib(n-2) + fib(n-1)"
      ],
      "metadata": {
        "id": "W9B3e-t9iTUj"
      },
      "execution_count": 15,
      "outputs": []
    },
    {
      "cell_type": "code",
      "source": [
        "# измеряем время выполнения\n",
        "res2 = benchmark(fib2)\n",
        "res2(35)\n",
        "res2(35)\n",
        "# при первом вызове результат выполнения функции записывается в кэш\n",
        "# при последующих запусках результат берется из кэша и время на вычисление не требуется"
      ],
      "metadata": {
        "id": "Sk6_4KQaidkh",
        "colab": {
          "base_uri": "https://localhost:8080/"
        },
        "outputId": "85630c32-bf0f-4f29-d104-f838711a1ed2"
      },
      "execution_count": 16,
      "outputs": [
        {
          "output_type": "stream",
          "name": "stdout",
          "text": [
            "Время выполнения функции fmemo: 3.7857166480000046 \n",
            "\n",
            "Время выполнения функции fmemo: 2.983999991101882e-06 \n",
            "\n"
          ]
        },
        {
          "output_type": "execute_result",
          "data": {
            "text/plain": [
              "9227465"
            ]
          },
          "metadata": {},
          "execution_count": 16
        }
      ]
    },
    {
      "cell_type": "code",
      "source": [],
      "metadata": {
        "id": "yOkj8JgN5FmP"
      },
      "execution_count": null,
      "outputs": []
    }
  ]
}